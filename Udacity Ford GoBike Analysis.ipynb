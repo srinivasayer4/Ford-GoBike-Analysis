{
 "cells": [
  {
   "cell_type": "markdown",
   "metadata": {},
   "source": [
    "# **Udacity Ford GoBikes Analysis**\n",
    "## **1. Introduction**\n",
    "Ford GoBike or Bay Wheels (name changed after getting acquired by Lyft) is a bike sharing company in San Fransisco. It has provided data about its trip in the San Fransisco Bay area from 2017 to 2020 that includes the duration of the trip, the coordinates (longitude and latitude) of the trips etc.\n",
    "\n",
    "Each month's data is in the form of a zipped csv file. The data will be programatically downloaded from the website and a master dataset will be created. This will be cleaned to make it tidy and data exploration will be performed on the dataset."
   ]
  },
  {
   "cell_type": "markdown",
   "metadata": {},
   "source": [
    "## **2. Data Gathering**\n",
    "The data is presenet in zipped format in Lyft's AWS server location. Each month's data is stored as a seperate csv file in zipped folders. The index containing a list of the file names needs to be scraped from the AWS server.\n",
    "\n",
    "This index will then be used to prgramatically download all the files. They will then be unzipped and read into a Pandas dataframe."
   ]
  },
  {
   "cell_type": "code",
   "execution_count": 2,
   "metadata": {},
   "outputs": [],
   "source": [
    "import pandas as pd\n",
    "import numpy as np\n",
    "import os\n",
    "import matplotlib.pyplot as plt\n",
    "import seaborn as sns\n",
    "import requests\n",
    "from bs4 import BeautifulSoup\n",
    "import zipfile\n",
    "import io"
   ]
  },
  {
   "cell_type": "markdown",
   "metadata": {},
   "source": [
    "Scraping the list of all the files from the AWS storage location"
   ]
  },
  {
   "cell_type": "code",
   "execution_count": 22,
   "metadata": {},
   "outputs": [
    {
     "data": {
      "text/plain": [
       "<Response [200]>"
      ]
     },
     "execution_count": 22,
     "metadata": {},
     "output_type": "execute_result"
    }
   ],
   "source": [
    "# Getting the URL for the zip files from the Lyft/ Ford AWS \n",
    "response= requests.get('https://s3.amazonaws.com/baywheels-data')\n",
    "response"
   ]
  },
  {
   "cell_type": "markdown",
   "metadata": {},
   "source": [
    "Storing the files in the form of an html document which will be read using BeautifulSoup."
   ]
  },
  {
   "cell_type": "code",
   "execution_count": 34,
   "metadata": {},
   "outputs": [],
   "source": [
    "# writing the index of file_names into a local file\n",
    "my_folder= r'C:\\Users\\srini\\Udacity\\Udacity Ford GoBike'\n",
    "my_file= 'index2.html'\n",
    "with open ( os.path.join(my_folder,my_file), 'wb') as file:\n",
    "    file.write(response.content)"
   ]
  },
  {
   "cell_type": "code",
   "execution_count": 35,
   "metadata": {},
   "outputs": [],
   "source": [
    "#opening the HTML file using beautiful soup\n",
    "with open (os.path.join(my_folder,my_file), 'r') as file:\n",
    "    soup= BeautifulSoup(file)"
   ]
  },
  {
   "cell_type": "markdown",
   "metadata": {},
   "source": [
    "Extracting the file name from the index list"
   ]
  },
  {
   "cell_type": "code",
   "execution_count": 85,
   "metadata": {},
   "outputs": [
    {
     "data": {
      "text/plain": [
       "['2017-fordgobike-tripdata.csv.zip', '201801-fordgobike-tripdata.csv.zip']"
      ]
     },
     "execution_count": 85,
     "metadata": {},
     "output_type": "execute_result"
    }
   ],
   "source": [
    "#finding all the names of the files in the webpage that need to be downloaded\n",
    "my_list= [str(i).split('>')[1].split('<')[0] for i in soup.find_all('key')]\n",
    "my_list[:2]"
   ]
  },
  {
   "cell_type": "markdown",
   "metadata": {},
   "source": [
    "Downloading the files present in the index and extracting them to the local drive"
   ]
  },
  {
   "cell_type": "code",
   "execution_count": 117,
   "metadata": {},
   "outputs": [],
   "source": [
    "# Getting the URL for the zip files from the Lyft/ Ford AWS \n",
    "my_url= 'https://s3.amazonaws.com/baywheels-data'\n",
    "\n",
    "for x in my_list[:-1]:\n",
    "    my_url_mod= my_url+'/'+x   # create a unique URL for each file\n",
    "    \n",
    "    response= requests.get(my_url_mod)   \n",
    "    \n",
    "    # Downloading and extracting the zipfile\n",
    "    z= zipfile.ZipFile(io.BytesIO(response.content))  \n",
    "    z.extractall(os.path.join(my_folder,str(x[:-4])))  # Giving local hardrive path to store the extracted files"
   ]
  },
  {
   "cell_type": "code",
   "execution_count": 154,
   "metadata": {},
   "outputs": [],
   "source": [
    "# Specifying the data type for each column in the csv file\n",
    "my_dtype= {'duration_sec':'int', 'start_time': 'str', 'end_time':'str', 'start_station_id':'float',\n",
    "       'start_station_name':'str', 'start_station_latitude': 'float',\n",
    "       'start_station_longitude':'float', 'end_station_id':'float', 'end_station_name':'str',\n",
    "       'end_station_latitude':'float', 'end_station_longitude':'float', 'bike_id':'int', 'user_type':'str',\n",
    "       'rental_access_method':'object'}"
   ]
  },
  {
   "cell_type": "markdown",
   "metadata": {},
   "source": [
    "Using Pandas to read each of the extracted csv files from above and concatenating them to a master dataframe"
   ]
  },
  {
   "cell_type": "code",
   "execution_count": 298,
   "metadata": {},
   "outputs": [
    {
     "name": "stderr",
     "output_type": "stream",
     "text": [
      "C:\\Users\\srini\\AppData\\Local\\Continuum\\anaconda3\\lib\\site-packages\\IPython\\core\\interactiveshell.py:3058: DtypeWarning: Columns (13) have mixed types. Specify dtype option on import or set low_memory=False.\n",
      "  interactivity=interactivity, compiler=compiler, result=result)\n"
     ]
    },
    {
     "name": "stdout",
     "output_type": "stream",
     "text": [
      "<class 'pandas.core.frame.DataFrame'>\n",
      "Int64Index: 6138312 entries, 0 to 432353\n",
      "Data columns (total 15 columns):\n",
      "duration_sec               int64\n",
      "start_time                 object\n",
      "end_time                   object\n",
      "start_station_id           float64\n",
      "start_station_name         object\n",
      "start_station_latitude     float64\n",
      "start_station_longitude    float64\n",
      "end_station_id             float64\n",
      "end_station_name           object\n",
      "end_station_latitude       float64\n",
      "end_station_longitude      float64\n",
      "bike_id                    int64\n",
      "user_type                  object\n",
      "bike_share_for_all_trip    object\n",
      "rental_access_method       object\n",
      "dtypes: float64(6), int64(2), object(7)\n",
      "memory usage: 749.3+ MB\n"
     ]
    }
   ],
   "source": [
    "# Concatenating each csv file into a master dataframe called df\n",
    "df= pd.read_csv(os.path.join(my_folder, my_list[0][:-4], my_list[0][:-4]))\n",
    "\n",
    "for x in my_list[:-1]:\n",
    "    temp= pd.read_csv(os.path.join(my_folder, x[:-4], x[:-4]), dtype= my_dtype) # Making sure that .zip element is removed\n",
    "    df= pd.concat([df,temp], sort= False, )\n",
    "df.info()"
   ]
  },
  {
   "cell_type": "code",
   "execution_count": 299,
   "metadata": {},
   "outputs": [
    {
     "data": {
      "text/plain": [
       "(6138312, 15)"
      ]
     },
     "execution_count": 299,
     "metadata": {},
     "output_type": "execute_result"
    }
   ],
   "source": [
    "df.shape"
   ]
  },
  {
   "cell_type": "markdown",
   "metadata": {},
   "source": [
    "There are a total of 12 million rows in the dataset that contains all the ride data made by Ford GoBike from 2017 to 2020."
   ]
  },
  {
   "cell_type": "markdown",
   "metadata": {},
   "source": [
    "Exporting the master dataframe to local drive so that it can be accessed easily later."
   ]
  },
  {
   "cell_type": "code",
   "execution_count": 300,
   "metadata": {},
   "outputs": [],
   "source": [
    "# Exporting the combined master dataframe to local hard drive\n",
    "df.to_csv(os.path.join(my_folder,'master.csv'),index=False )"
   ]
  },
  {
   "cell_type": "markdown",
   "metadata": {},
   "source": [
    "## 3. Data Assessing and Cleaning\n",
    "The gathered data has a few quality and tidiness issues that need to be cleaned."
   ]
  },
  {
   "cell_type": "code",
   "execution_count": 301,
   "metadata": {},
   "outputs": [],
   "source": [
    "# Making a copy of the master dataframe\n",
    "df_copy = df.copy()"
   ]
  },
  {
   "cell_type": "code",
   "execution_count": 302,
   "metadata": {},
   "outputs": [
    {
     "data": {
      "text/html": [
       "<div>\n",
       "<style scoped>\n",
       "    .dataframe tbody tr th:only-of-type {\n",
       "        vertical-align: middle;\n",
       "    }\n",
       "\n",
       "    .dataframe tbody tr th {\n",
       "        vertical-align: top;\n",
       "    }\n",
       "\n",
       "    .dataframe thead th {\n",
       "        text-align: right;\n",
       "    }\n",
       "</style>\n",
       "<table border=\"1\" class=\"dataframe\">\n",
       "  <thead>\n",
       "    <tr style=\"text-align: right;\">\n",
       "      <th></th>\n",
       "      <th>duration_sec</th>\n",
       "      <th>start_time</th>\n",
       "      <th>end_time</th>\n",
       "      <th>start_station_id</th>\n",
       "      <th>start_station_name</th>\n",
       "      <th>start_station_latitude</th>\n",
       "      <th>start_station_longitude</th>\n",
       "      <th>end_station_id</th>\n",
       "      <th>end_station_name</th>\n",
       "      <th>end_station_latitude</th>\n",
       "      <th>end_station_longitude</th>\n",
       "      <th>bike_id</th>\n",
       "      <th>user_type</th>\n",
       "      <th>bike_share_for_all_trip</th>\n",
       "      <th>rental_access_method</th>\n",
       "    </tr>\n",
       "  </thead>\n",
       "  <tbody>\n",
       "    <tr>\n",
       "      <td>0</td>\n",
       "      <td>80110</td>\n",
       "      <td>2017-12-31 16:57:39.6540</td>\n",
       "      <td>2018-01-01 15:12:50.2450</td>\n",
       "      <td>74.0</td>\n",
       "      <td>Laguna St at Hayes St</td>\n",
       "      <td>37.776435</td>\n",
       "      <td>-122.426244</td>\n",
       "      <td>43.0</td>\n",
       "      <td>San Francisco Public Library (Grove St at Hyde...</td>\n",
       "      <td>37.778768</td>\n",
       "      <td>-122.415929</td>\n",
       "      <td>96</td>\n",
       "      <td>Customer</td>\n",
       "      <td>NaN</td>\n",
       "      <td>NaN</td>\n",
       "    </tr>\n",
       "    <tr>\n",
       "      <td>1</td>\n",
       "      <td>78800</td>\n",
       "      <td>2017-12-31 15:56:34.8420</td>\n",
       "      <td>2018-01-01 13:49:55.6170</td>\n",
       "      <td>284.0</td>\n",
       "      <td>Yerba Buena Center for the Arts (Howard St at ...</td>\n",
       "      <td>37.784872</td>\n",
       "      <td>-122.400876</td>\n",
       "      <td>96.0</td>\n",
       "      <td>Dolores St at 15th St</td>\n",
       "      <td>37.766210</td>\n",
       "      <td>-122.426614</td>\n",
       "      <td>88</td>\n",
       "      <td>Customer</td>\n",
       "      <td>NaN</td>\n",
       "      <td>NaN</td>\n",
       "    </tr>\n",
       "    <tr>\n",
       "      <td>2</td>\n",
       "      <td>45768</td>\n",
       "      <td>2017-12-31 22:45:48.4110</td>\n",
       "      <td>2018-01-01 11:28:36.8830</td>\n",
       "      <td>245.0</td>\n",
       "      <td>Downtown Berkeley BART</td>\n",
       "      <td>37.870348</td>\n",
       "      <td>-122.267764</td>\n",
       "      <td>245.0</td>\n",
       "      <td>Downtown Berkeley BART</td>\n",
       "      <td>37.870348</td>\n",
       "      <td>-122.267764</td>\n",
       "      <td>1094</td>\n",
       "      <td>Customer</td>\n",
       "      <td>NaN</td>\n",
       "      <td>NaN</td>\n",
       "    </tr>\n",
       "    <tr>\n",
       "      <td>3</td>\n",
       "      <td>62172</td>\n",
       "      <td>2017-12-31 17:31:10.6360</td>\n",
       "      <td>2018-01-01 10:47:23.5310</td>\n",
       "      <td>60.0</td>\n",
       "      <td>8th St at Ringold St</td>\n",
       "      <td>37.774520</td>\n",
       "      <td>-122.409449</td>\n",
       "      <td>5.0</td>\n",
       "      <td>Powell St BART Station (Market St at 5th St)</td>\n",
       "      <td>37.783899</td>\n",
       "      <td>-122.408445</td>\n",
       "      <td>2831</td>\n",
       "      <td>Customer</td>\n",
       "      <td>NaN</td>\n",
       "      <td>NaN</td>\n",
       "    </tr>\n",
       "    <tr>\n",
       "      <td>4</td>\n",
       "      <td>43603</td>\n",
       "      <td>2017-12-31 14:23:14.0010</td>\n",
       "      <td>2018-01-01 02:29:57.5710</td>\n",
       "      <td>239.0</td>\n",
       "      <td>Bancroft Way at Telegraph Ave</td>\n",
       "      <td>37.868813</td>\n",
       "      <td>-122.258764</td>\n",
       "      <td>247.0</td>\n",
       "      <td>Fulton St at Bancroft Way</td>\n",
       "      <td>37.867789</td>\n",
       "      <td>-122.265896</td>\n",
       "      <td>3167</td>\n",
       "      <td>Subscriber</td>\n",
       "      <td>NaN</td>\n",
       "      <td>NaN</td>\n",
       "    </tr>\n",
       "  </tbody>\n",
       "</table>\n",
       "</div>"
      ],
      "text/plain": [
       "   duration_sec                start_time                  end_time  \\\n",
       "0         80110  2017-12-31 16:57:39.6540  2018-01-01 15:12:50.2450   \n",
       "1         78800  2017-12-31 15:56:34.8420  2018-01-01 13:49:55.6170   \n",
       "2         45768  2017-12-31 22:45:48.4110  2018-01-01 11:28:36.8830   \n",
       "3         62172  2017-12-31 17:31:10.6360  2018-01-01 10:47:23.5310   \n",
       "4         43603  2017-12-31 14:23:14.0010  2018-01-01 02:29:57.5710   \n",
       "\n",
       "   start_station_id                                 start_station_name  \\\n",
       "0              74.0                              Laguna St at Hayes St   \n",
       "1             284.0  Yerba Buena Center for the Arts (Howard St at ...   \n",
       "2             245.0                             Downtown Berkeley BART   \n",
       "3              60.0                               8th St at Ringold St   \n",
       "4             239.0                      Bancroft Way at Telegraph Ave   \n",
       "\n",
       "   start_station_latitude  start_station_longitude  end_station_id  \\\n",
       "0               37.776435              -122.426244            43.0   \n",
       "1               37.784872              -122.400876            96.0   \n",
       "2               37.870348              -122.267764           245.0   \n",
       "3               37.774520              -122.409449             5.0   \n",
       "4               37.868813              -122.258764           247.0   \n",
       "\n",
       "                                    end_station_name  end_station_latitude  \\\n",
       "0  San Francisco Public Library (Grove St at Hyde...             37.778768   \n",
       "1                              Dolores St at 15th St             37.766210   \n",
       "2                             Downtown Berkeley BART             37.870348   \n",
       "3       Powell St BART Station (Market St at 5th St)             37.783899   \n",
       "4                          Fulton St at Bancroft Way             37.867789   \n",
       "\n",
       "   end_station_longitude  bike_id   user_type bike_share_for_all_trip  \\\n",
       "0            -122.415929       96    Customer                     NaN   \n",
       "1            -122.426614       88    Customer                     NaN   \n",
       "2            -122.267764     1094    Customer                     NaN   \n",
       "3            -122.408445     2831    Customer                     NaN   \n",
       "4            -122.265896     3167  Subscriber                     NaN   \n",
       "\n",
       "  rental_access_method  \n",
       "0                  NaN  \n",
       "1                  NaN  \n",
       "2                  NaN  \n",
       "3                  NaN  \n",
       "4                  NaN  "
      ]
     },
     "execution_count": 302,
     "metadata": {},
     "output_type": "execute_result"
    }
   ],
   "source": [
    "df.head()"
   ]
  },
  {
   "cell_type": "markdown",
   "metadata": {},
   "source": [
    "**1. Duplicate Index** <br>\n",
    "**Assessment:** Since we concatenated the data, lots of rows have duplicate index.<br>\n",
    "**Cleaning:** Remove these duplicate index so that each observation has a unique index."
   ]
  },
  {
   "cell_type": "code",
   "execution_count": 307,
   "metadata": {},
   "outputs": [
    {
     "data": {
      "text/html": [
       "<div>\n",
       "<style scoped>\n",
       "    .dataframe tbody tr th:only-of-type {\n",
       "        vertical-align: middle;\n",
       "    }\n",
       "\n",
       "    .dataframe tbody tr th {\n",
       "        vertical-align: top;\n",
       "    }\n",
       "\n",
       "    .dataframe thead th {\n",
       "        text-align: right;\n",
       "    }\n",
       "</style>\n",
       "<table border=\"1\" class=\"dataframe\">\n",
       "  <thead>\n",
       "    <tr style=\"text-align: right;\">\n",
       "      <th></th>\n",
       "      <th>duration_sec</th>\n",
       "      <th>start_time</th>\n",
       "      <th>end_time</th>\n",
       "      <th>start_station_id</th>\n",
       "      <th>start_station_name</th>\n",
       "      <th>start_station_latitude</th>\n",
       "      <th>start_station_longitude</th>\n",
       "      <th>end_station_id</th>\n",
       "      <th>end_station_name</th>\n",
       "      <th>end_station_latitude</th>\n",
       "      <th>end_station_longitude</th>\n",
       "      <th>bike_id</th>\n",
       "      <th>user_type</th>\n",
       "      <th>bike_share_for_all_trip</th>\n",
       "      <th>rental_access_method</th>\n",
       "    </tr>\n",
       "  </thead>\n",
       "  <tbody>\n",
       "    <tr>\n",
       "      <td>0</td>\n",
       "      <td>80110</td>\n",
       "      <td>2017-12-31 16:57:39.6540</td>\n",
       "      <td>2018-01-01 15:12:50.2450</td>\n",
       "      <td>74.0</td>\n",
       "      <td>Laguna St at Hayes St</td>\n",
       "      <td>37.776435</td>\n",
       "      <td>-122.426244</td>\n",
       "      <td>43.0</td>\n",
       "      <td>San Francisco Public Library (Grove St at Hyde...</td>\n",
       "      <td>37.778768</td>\n",
       "      <td>-122.415929</td>\n",
       "      <td>96</td>\n",
       "      <td>Customer</td>\n",
       "      <td>NaN</td>\n",
       "      <td>NaN</td>\n",
       "    </tr>\n",
       "  </tbody>\n",
       "</table>\n",
       "</div>"
      ],
      "text/plain": [
       "   duration_sec                start_time                  end_time  \\\n",
       "0         80110  2017-12-31 16:57:39.6540  2018-01-01 15:12:50.2450   \n",
       "\n",
       "   start_station_id     start_station_name  start_station_latitude  \\\n",
       "0              74.0  Laguna St at Hayes St               37.776435   \n",
       "\n",
       "   start_station_longitude  end_station_id  \\\n",
       "0              -122.426244            43.0   \n",
       "\n",
       "                                    end_station_name  end_station_latitude  \\\n",
       "0  San Francisco Public Library (Grove St at Hyde...             37.778768   \n",
       "\n",
       "   end_station_longitude  bike_id user_type bike_share_for_all_trip  \\\n",
       "0            -122.415929       96  Customer                     NaN   \n",
       "\n",
       "  rental_access_method  \n",
       "0                  NaN  "
      ]
     },
     "execution_count": 307,
     "metadata": {},
     "output_type": "execute_result"
    }
   ],
   "source": [
    "# resetting the duplicate index\n",
    "df.reset_index(inplace= True)\n",
    "\n",
    "# checking for the duplicate\n",
    "df.index.duplicated().sum()\n",
    "\n",
    "# dropping the index column\n",
    "df.drop(columns='index', inplace= True)\n",
    "df.head(1)"
   ]
  },
  {
   "cell_type": "markdown",
   "metadata": {},
   "source": [
    "**2. Duplicate rows**\n",
    "\n",
    "Assessment: There are around half million duplicate rows in the dataset"
   ]
  },
  {
   "cell_type": "code",
   "execution_count": 310,
   "metadata": {},
   "outputs": [
    {
     "data": {
      "text/plain": [
       "519700"
      ]
     },
     "execution_count": 310,
     "metadata": {},
     "output_type": "execute_result"
    }
   ],
   "source": [
    "#checking for duplicates in the dataframe\n",
    "df.duplicated().sum()"
   ]
  },
  {
   "cell_type": "code",
   "execution_count": 311,
   "metadata": {},
   "outputs": [
    {
     "data": {
      "text/html": [
       "<div>\n",
       "<style scoped>\n",
       "    .dataframe tbody tr th:only-of-type {\n",
       "        vertical-align: middle;\n",
       "    }\n",
       "\n",
       "    .dataframe tbody tr th {\n",
       "        vertical-align: top;\n",
       "    }\n",
       "\n",
       "    .dataframe thead th {\n",
       "        text-align: right;\n",
       "    }\n",
       "</style>\n",
       "<table border=\"1\" class=\"dataframe\">\n",
       "  <thead>\n",
       "    <tr style=\"text-align: right;\">\n",
       "      <th></th>\n",
       "      <th>duration_sec</th>\n",
       "      <th>start_time</th>\n",
       "      <th>end_time</th>\n",
       "      <th>start_station_id</th>\n",
       "      <th>start_station_name</th>\n",
       "      <th>start_station_latitude</th>\n",
       "      <th>start_station_longitude</th>\n",
       "      <th>end_station_id</th>\n",
       "      <th>end_station_name</th>\n",
       "      <th>end_station_latitude</th>\n",
       "      <th>end_station_longitude</th>\n",
       "      <th>bike_id</th>\n",
       "      <th>user_type</th>\n",
       "      <th>bike_share_for_all_trip</th>\n",
       "      <th>rental_access_method</th>\n",
       "    </tr>\n",
       "  </thead>\n",
       "  <tbody>\n",
       "    <tr>\n",
       "      <td>519700</td>\n",
       "      <td>80110</td>\n",
       "      <td>2017-12-31 16:57:39.6540</td>\n",
       "      <td>2018-01-01 15:12:50.2450</td>\n",
       "      <td>74.0</td>\n",
       "      <td>Laguna St at Hayes St</td>\n",
       "      <td>37.776435</td>\n",
       "      <td>-122.426244</td>\n",
       "      <td>43.0</td>\n",
       "      <td>San Francisco Public Library (Grove St at Hyde...</td>\n",
       "      <td>37.778768</td>\n",
       "      <td>-122.415929</td>\n",
       "      <td>96</td>\n",
       "      <td>Customer</td>\n",
       "      <td>NaN</td>\n",
       "      <td>NaN</td>\n",
       "    </tr>\n",
       "    <tr>\n",
       "      <td>519701</td>\n",
       "      <td>78800</td>\n",
       "      <td>2017-12-31 15:56:34.8420</td>\n",
       "      <td>2018-01-01 13:49:55.6170</td>\n",
       "      <td>284.0</td>\n",
       "      <td>Yerba Buena Center for the Arts (Howard St at ...</td>\n",
       "      <td>37.784872</td>\n",
       "      <td>-122.400876</td>\n",
       "      <td>96.0</td>\n",
       "      <td>Dolores St at 15th St</td>\n",
       "      <td>37.766210</td>\n",
       "      <td>-122.426614</td>\n",
       "      <td>88</td>\n",
       "      <td>Customer</td>\n",
       "      <td>NaN</td>\n",
       "      <td>NaN</td>\n",
       "    </tr>\n",
       "    <tr>\n",
       "      <td>519702</td>\n",
       "      <td>45768</td>\n",
       "      <td>2017-12-31 22:45:48.4110</td>\n",
       "      <td>2018-01-01 11:28:36.8830</td>\n",
       "      <td>245.0</td>\n",
       "      <td>Downtown Berkeley BART</td>\n",
       "      <td>37.870348</td>\n",
       "      <td>-122.267764</td>\n",
       "      <td>245.0</td>\n",
       "      <td>Downtown Berkeley BART</td>\n",
       "      <td>37.870348</td>\n",
       "      <td>-122.267764</td>\n",
       "      <td>1094</td>\n",
       "      <td>Customer</td>\n",
       "      <td>NaN</td>\n",
       "      <td>NaN</td>\n",
       "    </tr>\n",
       "  </tbody>\n",
       "</table>\n",
       "</div>"
      ],
      "text/plain": [
       "        duration_sec                start_time                  end_time  \\\n",
       "519700         80110  2017-12-31 16:57:39.6540  2018-01-01 15:12:50.2450   \n",
       "519701         78800  2017-12-31 15:56:34.8420  2018-01-01 13:49:55.6170   \n",
       "519702         45768  2017-12-31 22:45:48.4110  2018-01-01 11:28:36.8830   \n",
       "\n",
       "        start_station_id                                 start_station_name  \\\n",
       "519700              74.0                              Laguna St at Hayes St   \n",
       "519701             284.0  Yerba Buena Center for the Arts (Howard St at ...   \n",
       "519702             245.0                             Downtown Berkeley BART   \n",
       "\n",
       "        start_station_latitude  start_station_longitude  end_station_id  \\\n",
       "519700               37.776435              -122.426244            43.0   \n",
       "519701               37.784872              -122.400876            96.0   \n",
       "519702               37.870348              -122.267764           245.0   \n",
       "\n",
       "                                         end_station_name  \\\n",
       "519700  San Francisco Public Library (Grove St at Hyde...   \n",
       "519701                              Dolores St at 15th St   \n",
       "519702                             Downtown Berkeley BART   \n",
       "\n",
       "        end_station_latitude  end_station_longitude  bike_id user_type  \\\n",
       "519700             37.778768            -122.415929       96  Customer   \n",
       "519701             37.766210            -122.426614       88  Customer   \n",
       "519702             37.870348            -122.267764     1094  Customer   \n",
       "\n",
       "       bike_share_for_all_trip rental_access_method  \n",
       "519700                     NaN                  NaN  \n",
       "519701                     NaN                  NaN  \n",
       "519702                     NaN                  NaN  "
      ]
     },
     "execution_count": 311,
     "metadata": {},
     "output_type": "execute_result"
    }
   ],
   "source": [
    "df[df.duplicated()].head(3)"
   ]
  },
  {
   "cell_type": "code",
   "execution_count": 312,
   "metadata": {},
   "outputs": [
    {
     "data": {
      "text/plain": [
       "0"
      ]
     },
     "execution_count": 312,
     "metadata": {},
     "output_type": "execute_result"
    }
   ],
   "source": [
    "# Dropping the duplicate rows\n",
    "df.drop_duplicates(inplace= True)\n",
    "\n",
    "#checking the operation\n",
    "df.duplicated().sum()"
   ]
  },
  {
   "cell_type": "code",
   "execution_count": 314,
   "metadata": {},
   "outputs": [
    {
     "data": {
      "text/plain": [
       "0"
      ]
     },
     "execution_count": 314,
     "metadata": {},
     "output_type": "execute_result"
    }
   ],
   "source": [
    "# Finding more missing values in the columns as df.info is not providing the information\n",
    "\n",
    "df.duration_sec.isna().sum() # no misisng values\n",
    "df.start_station_id.isna().sum() # there are 7 million missing rows of data for the starting station\n",
    "df.end_station_id.isna().sum() #there are also 7 million missing rows of data for the ending station\n",
    "df.start_station_latitude.isna().sum()"
   ]
  },
  {
   "cell_type": "code",
   "execution_count": 315,
   "metadata": {},
   "outputs": [
    {
     "data": {
      "text/plain": [
       "Subscriber    4462384\n",
       "Customer      1156228\n",
       "Name: user_type, dtype: int64"
      ]
     },
     "execution_count": 315,
     "metadata": {},
     "output_type": "execute_result"
    }
   ],
   "source": [
    "df.user_type.value_counts()"
   ]
  },
  {
   "cell_type": "markdown",
   "metadata": {},
   "source": [
    "**3. Changing the start_time and end_time columns to datetime format in Python.**"
   ]
  },
  {
   "cell_type": "code",
   "execution_count": 316,
   "metadata": {},
   "outputs": [],
   "source": [
    "# Changing the start time to DateTime format\n",
    "df.start_time= pd.to_datetime(df.start_time)"
   ]
  },
  {
   "cell_type": "code",
   "execution_count": 317,
   "metadata": {},
   "outputs": [],
   "source": [
    "# Changing the end time to DateTime format\n",
    "df.end_time = pd.to_datetime(df.end_time)"
   ]
  },
  {
   "cell_type": "code",
   "execution_count": 318,
   "metadata": {},
   "outputs": [],
   "source": [
    "# Adding a duration in min column for better analysis later on\n",
    "df['duration_min']= df.duration_sec/60"
   ]
  },
  {
   "cell_type": "code",
   "execution_count": 319,
   "metadata": {},
   "outputs": [
    {
     "name": "stdout",
     "output_type": "stream",
     "text": [
      "<class 'pandas.core.frame.DataFrame'>\n",
      "Int64Index: 5618612 entries, 0 to 6138311\n",
      "Data columns (total 16 columns):\n",
      "duration_sec               int64\n",
      "start_time                 datetime64[ns]\n",
      "end_time                   datetime64[ns]\n",
      "start_station_id           float64\n",
      "start_station_name         object\n",
      "start_station_latitude     float64\n",
      "start_station_longitude    float64\n",
      "end_station_id             float64\n",
      "end_station_name           object\n",
      "end_station_latitude       float64\n",
      "end_station_longitude      float64\n",
      "bike_id                    int64\n",
      "user_type                  object\n",
      "bike_share_for_all_trip    object\n",
      "rental_access_method       object\n",
      "duration_min               float64\n",
      "dtypes: datetime64[ns](2), float64(7), int64(2), object(5)\n",
      "memory usage: 728.7+ MB\n"
     ]
    }
   ],
   "source": [
    "df.info()"
   ]
  },
  {
   "cell_type": "markdown",
   "metadata": {},
   "source": [
    "The data is tidy as each category has its own column, each observation has its own row and together they form a table."
   ]
  },
  {
   "cell_type": "code",
   "execution_count": 321,
   "metadata": {},
   "outputs": [
    {
     "data": {
      "text/plain": [
       "app        572966\n",
       "clipper     51461\n",
       "Name: rental_access_method, dtype: int64"
      ]
     },
     "execution_count": 321,
     "metadata": {},
     "output_type": "execute_result"
    }
   ],
   "source": [
    "# checking for any incorrect categories that might have creeped in\n",
    "df.rental_access_method.value_counts()"
   ]
  },
  {
   "cell_type": "code",
   "execution_count": 181,
   "metadata": {},
   "outputs": [
    {
     "data": {
      "text/plain": [
       "array(['Customer', 'Subscriber'], dtype=object)"
      ]
     },
     "execution_count": 181,
     "metadata": {},
     "output_type": "execute_result"
    }
   ],
   "source": [
    "# checking for any incorrect categories that might have creeped in\n",
    "df.user_type.unique()"
   ]
  },
  {
   "cell_type": "code",
   "execution_count": 322,
   "metadata": {},
   "outputs": [
    {
     "data": {
      "text/plain": [
       "count    5.618612e+06\n",
       "mean     1.415387e+01\n",
       "std      3.754154e+01\n",
       "min      1.000000e+00\n",
       "25%      5.983333e+00\n",
       "50%      9.516667e+00\n",
       "75%      1.485000e+01\n",
       "max      1.520183e+04\n",
       "Name: duration_min, dtype: float64"
      ]
     },
     "execution_count": 322,
     "metadata": {},
     "output_type": "execute_result"
    }
   ],
   "source": [
    "df['duration_min'].describe()"
   ]
  },
  {
   "cell_type": "code",
   "execution_count": 323,
   "metadata": {},
   "outputs": [
    {
     "data": {
      "text/plain": [
       "458"
      ]
     },
     "execution_count": 323,
     "metadata": {},
     "output_type": "execute_result"
    }
   ],
   "source": [
    "df.start_station_id.nunique()"
   ]
  },
  {
   "cell_type": "markdown",
   "metadata": {},
   "source": [
    "**4. Adding seperate columns for Year, Month, Hour for analysis later on**"
   ]
  },
  {
   "cell_type": "code",
   "execution_count": 324,
   "metadata": {},
   "outputs": [
    {
     "data": {
      "text/html": [
       "<div>\n",
       "<style scoped>\n",
       "    .dataframe tbody tr th:only-of-type {\n",
       "        vertical-align: middle;\n",
       "    }\n",
       "\n",
       "    .dataframe tbody tr th {\n",
       "        vertical-align: top;\n",
       "    }\n",
       "\n",
       "    .dataframe thead th {\n",
       "        text-align: right;\n",
       "    }\n",
       "</style>\n",
       "<table border=\"1\" class=\"dataframe\">\n",
       "  <thead>\n",
       "    <tr style=\"text-align: right;\">\n",
       "      <th></th>\n",
       "      <th>duration_sec</th>\n",
       "      <th>start_time</th>\n",
       "      <th>end_time</th>\n",
       "      <th>start_station_id</th>\n",
       "      <th>start_station_name</th>\n",
       "      <th>start_station_latitude</th>\n",
       "      <th>start_station_longitude</th>\n",
       "      <th>end_station_id</th>\n",
       "      <th>end_station_name</th>\n",
       "      <th>end_station_latitude</th>\n",
       "      <th>end_station_longitude</th>\n",
       "      <th>bike_id</th>\n",
       "      <th>user_type</th>\n",
       "      <th>bike_share_for_all_trip</th>\n",
       "      <th>rental_access_method</th>\n",
       "      <th>duration_min</th>\n",
       "      <th>year</th>\n",
       "      <th>month</th>\n",
       "      <th>hour</th>\n",
       "      <th>weekday</th>\n",
       "    </tr>\n",
       "  </thead>\n",
       "  <tbody>\n",
       "    <tr>\n",
       "      <td>0</td>\n",
       "      <td>80110</td>\n",
       "      <td>2017-12-31 16:57:39.654</td>\n",
       "      <td>2018-01-01 15:12:50.245</td>\n",
       "      <td>74.0</td>\n",
       "      <td>Laguna St at Hayes St</td>\n",
       "      <td>37.776435</td>\n",
       "      <td>-122.426244</td>\n",
       "      <td>43.0</td>\n",
       "      <td>San Francisco Public Library (Grove St at Hyde...</td>\n",
       "      <td>37.778768</td>\n",
       "      <td>-122.415929</td>\n",
       "      <td>96</td>\n",
       "      <td>Customer</td>\n",
       "      <td>NaN</td>\n",
       "      <td>NaN</td>\n",
       "      <td>1335.166667</td>\n",
       "      <td>2017</td>\n",
       "      <td>12</td>\n",
       "      <td>16</td>\n",
       "      <td>Sun</td>\n",
       "    </tr>\n",
       "  </tbody>\n",
       "</table>\n",
       "</div>"
      ],
      "text/plain": [
       "   duration_sec              start_time                end_time  \\\n",
       "0         80110 2017-12-31 16:57:39.654 2018-01-01 15:12:50.245   \n",
       "\n",
       "   start_station_id     start_station_name  start_station_latitude  \\\n",
       "0              74.0  Laguna St at Hayes St               37.776435   \n",
       "\n",
       "   start_station_longitude  end_station_id  \\\n",
       "0              -122.426244            43.0   \n",
       "\n",
       "                                    end_station_name  end_station_latitude  \\\n",
       "0  San Francisco Public Library (Grove St at Hyde...             37.778768   \n",
       "\n",
       "   end_station_longitude  bike_id user_type bike_share_for_all_trip  \\\n",
       "0            -122.415929       96  Customer                     NaN   \n",
       "\n",
       "  rental_access_method  duration_min  year  month  hour weekday  \n",
       "0                  NaN   1335.166667  2017     12    16     Sun  "
      ]
     },
     "execution_count": 324,
     "metadata": {},
     "output_type": "execute_result"
    }
   ],
   "source": [
    "#Extracting the  year, month and hour information \n",
    "df['year']= df.start_time.dt.year\n",
    "df['month']= df.start_time.dt.month\n",
    "df['hour']= df.start_time.dt.hour\n",
    "\n",
    "# Extracting the day of the week information\n",
    "df['weekday']=df.start_time.dt.weekday\n",
    "\n",
    "df.weekday.replace({0:'Mon',1:'Tue', 2:'Wed', 3:'Thu', 4:'Fri', 5:'Sat', 6:'Sun'},inplace= True )\n",
    "df.head(1)"
   ]
  },
  {
   "cell_type": "code",
   "execution_count": null,
   "metadata": {},
   "outputs": [],
   "source": [
    "# Merging the year and month columns to find better time series trends\n",
    "df['year_month']= df.year.map(str)+'-'+df.month.map(str)\n",
    "\n",
    "# Merging the year and month columns for easier analysis\n",
    "df['year_month']= pd.to_datetime(df['year_month'], format='%Y-%m').dt.strftime('%Y-%m')"
   ]
  },
  {
   "cell_type": "code",
   "execution_count": 687,
   "metadata": {},
   "outputs": [
    {
     "data": {
      "text/html": [
       "<div>\n",
       "<style scoped>\n",
       "    .dataframe tbody tr th:only-of-type {\n",
       "        vertical-align: middle;\n",
       "    }\n",
       "\n",
       "    .dataframe tbody tr th {\n",
       "        vertical-align: top;\n",
       "    }\n",
       "\n",
       "    .dataframe thead th {\n",
       "        text-align: right;\n",
       "    }\n",
       "</style>\n",
       "<table border=\"1\" class=\"dataframe\">\n",
       "  <thead>\n",
       "    <tr style=\"text-align: right;\">\n",
       "      <th></th>\n",
       "      <th>duration_sec</th>\n",
       "      <th>start_time</th>\n",
       "      <th>end_time</th>\n",
       "      <th>start_station_id</th>\n",
       "      <th>start_station_name</th>\n",
       "      <th>start_station_latitude</th>\n",
       "      <th>start_station_longitude</th>\n",
       "      <th>end_station_id</th>\n",
       "      <th>end_station_name</th>\n",
       "      <th>end_station_latitude</th>\n",
       "      <th>...</th>\n",
       "      <th>user_type</th>\n",
       "      <th>bike_share_for_all_trip</th>\n",
       "      <th>rental_access_method</th>\n",
       "      <th>duration_min</th>\n",
       "      <th>year</th>\n",
       "      <th>month</th>\n",
       "      <th>hour</th>\n",
       "      <th>weekday</th>\n",
       "      <th>year_month</th>\n",
       "      <th>ride</th>\n",
       "    </tr>\n",
       "  </thead>\n",
       "  <tbody>\n",
       "    <tr>\n",
       "      <td>0</td>\n",
       "      <td>80110</td>\n",
       "      <td>2017-12-31 16:57:39.654</td>\n",
       "      <td>2018-01-01 15:12:50.245</td>\n",
       "      <td>74.0</td>\n",
       "      <td>Laguna St at Hayes St</td>\n",
       "      <td>37.776435</td>\n",
       "      <td>-122.426244</td>\n",
       "      <td>43.0</td>\n",
       "      <td>San Francisco Public Library (Grove St at Hyde...</td>\n",
       "      <td>37.778768</td>\n",
       "      <td>...</td>\n",
       "      <td>Customer</td>\n",
       "      <td>NaN</td>\n",
       "      <td>NaN</td>\n",
       "      <td>1335.166667</td>\n",
       "      <td>2017</td>\n",
       "      <td>12</td>\n",
       "      <td>16</td>\n",
       "      <td>Sun</td>\n",
       "      <td>2017-12</td>\n",
       "      <td>1</td>\n",
       "    </tr>\n",
       "  </tbody>\n",
       "</table>\n",
       "<p>1 rows × 22 columns</p>\n",
       "</div>"
      ],
      "text/plain": [
       "   duration_sec              start_time                end_time  \\\n",
       "0         80110 2017-12-31 16:57:39.654 2018-01-01 15:12:50.245   \n",
       "\n",
       "   start_station_id     start_station_name  start_station_latitude  \\\n",
       "0              74.0  Laguna St at Hayes St               37.776435   \n",
       "\n",
       "   start_station_longitude  end_station_id  \\\n",
       "0              -122.426244            43.0   \n",
       "\n",
       "                                    end_station_name  end_station_latitude  \\\n",
       "0  San Francisco Public Library (Grove St at Hyde...             37.778768   \n",
       "\n",
       "   ...  user_type  bike_share_for_all_trip rental_access_method duration_min  \\\n",
       "0  ...   Customer                      NaN                  NaN  1335.166667   \n",
       "\n",
       "   year  month  hour  weekday  year_month ride  \n",
       "0  2017     12    16      Sun     2017-12    1  \n",
       "\n",
       "[1 rows x 22 columns]"
      ]
     },
     "execution_count": 687,
     "metadata": {},
     "output_type": "execute_result"
    }
   ],
   "source": [
    "df.head(1)"
   ]
  },
  {
   "cell_type": "code",
   "execution_count": 688,
   "metadata": {},
   "outputs": [],
   "source": [
    "# Exporting the clean dataset to local drive\n",
    "df.to_csv(os.path.join(my_folder,'master_clean.csv'),index=False )"
   ]
  },
  {
   "cell_type": "code",
   "execution_count": 3,
   "metadata": {},
   "outputs": [
    {
     "name": "stderr",
     "output_type": "stream",
     "text": [
      "C:\\Users\\srini\\AppData\\Local\\Continuum\\anaconda3\\lib\\site-packages\\IPython\\core\\interactiveshell.py:3058: DtypeWarning: Columns (13,14) have mixed types. Specify dtype option on import or set low_memory=False.\n",
      "  interactivity=interactivity, compiler=compiler, result=result)\n"
     ]
    }
   ],
   "source": [
    "# importing the file in case we are running the Jupyter notebook again rather than redownloading the data.\n",
    "my_folder= r'C:\\Users\\srini\\Udacity\\Udacity Ford GoBike'\n",
    "df= pd.read_csv(os.path.join(my_folder,'master_clean.csv'))"
   ]
  },
  {
   "cell_type": "markdown",
   "metadata": {},
   "source": [
    "There do not seem to be any other major quality issues with the data and we will proceed to perform EDA and visualization."
   ]
  },
  {
   "cell_type": "markdown",
   "metadata": {},
   "source": [
    "## 4. Data Visualization\n",
    "The key columns for interest for us are the duration (in min) column, the start time and end time of the rides. The rides in each year, hour and weekday and the starting and ending stations to see which stations are busy."
   ]
  },
  {
   "cell_type": "markdown",
   "metadata": {},
   "source": [
    "**4.1 Histogram for ride duration** <br>\n",
    "We need to see the distribution of the duration column to understand how long people ride"
   ]
  },
  {
   "cell_type": "code",
   "execution_count": 4,
   "metadata": {},
   "outputs": [
    {
     "data": {
      "image/png": "[encoded data removed]",
      "text/plain": [
       "<Figure size 504x360 with 1 Axes>"
      ]
     },
     "metadata": {
      "needs_background": "light"
     },
     "output_type": "display_data"
    }
   ],
   "source": [
    "# plotting the histogram for duration_min column\n",
    "plt.figure(figsize= [7,5])\n",
    "plt.hist(df.duration_min)\n",
    "\n",
    "plt.show()"
   ]
  },
  {
   "cell_type": "code",
   "execution_count": 534,
   "metadata": {},
   "outputs": [
    {
     "data": {
      "image/png": "[encoded data removed]",
      "text/plain": [
       "<Figure size 504x360 with 1 Axes>"
      ]
     },
     "metadata": {
      "needs_background": "light"
     },
     "output_type": "display_data"
    }
   ],
   "source": [
    "# plotting the histogram for duration_min column\n",
    "plt.figure(figsize= [7,5])\n",
    "plt.hist(df.duration_min, bins= np.arange(0,30,1))\n",
    "plt.xlim((0,30))\n",
    "plt.xlabel('Duration of ride (in min)')\n",
    "plt.ylabel('Frequency')\n",
    "plt.title('Histogram for bike ride duration')\n",
    "plt.show()"
   ]
  },
  {
   "cell_type": "markdown",
   "metadata": {},
   "source": [
    "The distribution for the duration of bike ride seems to be a right shaped distribution with mode between 5 and 10 min. Hence most of our riders are short distance riders. The historgram has been clipped at 30 min as rides above that are very rare."
   ]
  },
  {
   "cell_type": "markdown",
   "metadata": {},
   "source": [
    "**4.2 Busiest Stations**\n",
    "\n",
    "We need to identify if particular starting station are more busy than others and if some destinations are busier than others."
   ]
  },
  {
   "cell_type": "code",
   "execution_count": 561,
   "metadata": {},
   "outputs": [
    {
     "name": "stdout",
     "output_type": "stream",
     "text": [
      "Total number of days in analysis  977 days, 0:00:00\n"
     ]
    }
   ],
   "source": [
    "# Total days for which we have data for\n",
    "print('Total number of days in analysis ',df.start_time.dt.date.max()- df.start_time.dt.date.min())\n",
    "total_days= 977"
   ]
  },
  {
   "cell_type": "code",
   "execution_count": 556,
   "metadata": {},
   "outputs": [
    {
     "data": {
      "image/png": "[encoded data removed]",
      "text/plain": [
       "<Figure size 504x360 with 1 Axes>"
      ]
     },
     "metadata": {
      "needs_background": "light"
     },
     "output_type": "display_data"
    }
   ],
   "source": [
    "# Calculating the busiest station based on average rides per day\n",
    "plt.figure(figsize= [7,5])\n",
    "busy_station= (df.start_station_id.value_counts().head(7))/ 977  # dividing by total days for our data to calculate mean\n",
    "avg_station_rides = (df.start_station_id.value_counts()/977).mean()\n",
    "\n",
    "sns.barplot(x= busy_station.index, y= busy_station, color= sns.color_palette()[0], order= busy_station.index )\n",
    "plt.axhline(avg_station_rides,color='r', linestyle= '--', label= 'Average rides per station' )\n",
    "plt.ylabel('Average rides per day')\n",
    "plt.xlabel('Station ID')\n",
    "plt.title('Busiest start stations')\n",
    "plt.legend()\n",
    "plt.show()"
   ]
  },
  {
   "cell_type": "markdown",
   "metadata": {},
   "source": [
    "The busiest stations have an average of around 80 to 100 rides originating from them. These stations have average rides much higher than the normal, this shows that several stations have very few rides associated with them. We will explore them more in later multivariate exploration."
   ]
  },
  {
   "cell_type": "code",
   "execution_count": 559,
   "metadata": {},
   "outputs": [
    {
     "data": {
      "image/png": "[encoded data removed]",
      "text/plain": [
       "<Figure size 504x360 with 1 Axes>"
      ]
     },
     "metadata": {
      "needs_background": "light"
     },
     "output_type": "display_data"
    }
   ],
   "source": [
    "# Calculating the busiest destination based on average rides per day\n",
    "plt.figure(figsize= [7,5])\n",
    "busy_station= (df.end_station_id.value_counts().head(7))/ 977\n",
    "avg_station_rides_end = (df.end_station_id.value_counts()/977).mean()\n",
    "\n",
    "sns.barplot(x= busy_station.index, y= busy_station, color= sns.color_palette()[0], order= busy_station.index )\n",
    "plt.axhline(avg_station_rides_end,color='r', linestyle= '--', label= 'Average rides per station' )\n",
    "\n",
    "plt.ylabel('Average rides per day')\n",
    "plt.xlabel('Station ID')\n",
    "plt.title('Busiest end stations')\n",
    "plt.legend()\n",
    "plt.show()"
   ]
  },
  {
   "cell_type": "markdown",
   "metadata": {},
   "source": [
    "The busiest destination have around 120 rides ending on them per day. These stations have average rides much higher than the normal, this shows that several stations have very few rides associated with them. We will explore them more in later multivariate exploration."
   ]
  },
  {
   "cell_type": "markdown",
   "metadata": {},
   "source": [
    "**4.3 Number of rides per week day** <br>\n",
    "We will try to explore if there is any relationship between week days (like Monday, Tuesday etc.) with number of rides."
   ]
  },
  {
   "cell_type": "code",
   "execution_count": 579,
   "metadata": {},
   "outputs": [
    {
     "data": {
      "image/png": "[encoded data removed]",
      "text/plain": [
       "<Figure size 432x288 with 1 Axes>"
      ]
     },
     "metadata": {
      "needs_background": "light"
     },
     "output_type": "display_data"
    }
   ],
   "source": [
    "# Grouping the number of rides based on weekday\n",
    "temp = df.groupby(by='weekday').count()['duration_sec']/ (total_days/7) # Number of times Sunday came in 3 years preiod\n",
    "avg_ride_per_day = df.shape[0]/ total_days\n",
    "\n",
    "# Visualizing the number of rides based on weekday\n",
    "day_order= 'Sun,Mon,Tue,Wed,Thu,Fri,Sat'.split(',')\n",
    "sns.barplot(x=temp.index, y=temp.values,color= sns.color_palette()[0],order= day_order)\n",
    "plt.axhline(avg_ride_per_day,color= 'r',linestyle= '--', label= 'Average rides per day')\n",
    "\n",
    "plt.title('Number of rides on each day')\n",
    "plt.xlabel('Day of week')\n",
    "plt.ylabel('Number of rides')\n",
    "plt.legend(loc=(1.05,0.75))\n",
    "plt.show()"
   ]
  },
  {
   "cell_type": "markdown",
   "metadata": {},
   "source": [
    "As can be seen from the above boxplot, the least number of rides are during weekends. We need to compare it with the duration of the rides."
   ]
  },
  {
   "cell_type": "markdown",
   "metadata": {},
   "source": [
    "**4.4 Duration of the rides per weekday** <br>\n",
    "We will try to explore if there is any relationship between week days (like Monday, Tuesday etc.) with duration of rides."
   ]
  },
  {
   "cell_type": "code",
   "execution_count": 580,
   "metadata": {},
   "outputs": [
    {
     "data": {
      "image/png": "[encoded data removed]",
      "text/plain": [
       "<Figure size 432x288 with 1 Axes>"
      ]
     },
     "metadata": {
      "needs_background": "light"
     },
     "output_type": "display_data"
    }
   ],
   "source": [
    "# Visualizing the average duration of rides based on weekday\n",
    "\n",
    "temp2 = df.groupby(by='weekday').mean()['duration_min']\n",
    "avg_dur= df.duration_min.mean()\n",
    "\n",
    "sns.barplot(x=temp2.index, y=temp2.values,color= sns.color_palette()[0],order= day_order)\n",
    "plt.axhline(avg_dur_per_day, color= 'r',linestyle= '--', label= 'Average duration of ride')\n",
    "plt.title('Average duration of rides on each day')\n",
    "plt.xlabel('Day of week')\n",
    "plt.ylabel('Average duration of ride')\n",
    "plt.legend()\n",
    "plt.show()"
   ]
  },
  {
   "cell_type": "markdown",
   "metadata": {},
   "source": [
    "Even though the number of rides are less on the weekends, the duration of the rides are on an average 6 min longer on weekends. A boxplot can help us better to understand this relationship."
   ]
  },
  {
   "cell_type": "code",
   "execution_count": 330,
   "metadata": {},
   "outputs": [
    {
     "data": {
      "text/plain": [
       "(0, 30)"
      ]
     },
     "execution_count": 330,
     "metadata": {},
     "output_type": "execute_result"
    },
    {
     "data": {
      "image/png": "[encoded data removed]",
      "text/plain": [
       "<Figure size 432x288 with 1 Axes>"
      ]
     },
     "metadata": {
      "needs_background": "light"
     },
     "output_type": "display_data"
    }
   ],
   "source": [
    "#Boxplot for the relation between different week days and duration of rides\n",
    "sns.boxplot(x= df.weekday, y=df.duration_min, order= day_order)\n",
    "plt.ylim((0,30))"
   ]
  },
  {
   "cell_type": "markdown",
   "metadata": {},
   "source": [
    "It is clear from the above plots that people generally ride longer on the weekends. The medians of both Saturday and Sunday are higher compared to the weekdays."
   ]
  },
  {
   "cell_type": "markdown",
   "metadata": {},
   "source": [
    "**4.5 Average duration of rides based on the time of day**\n",
    "\n",
    "In each day there might different hours where there is different number of rides. We will try to explore this relationship."
   ]
  },
  {
   "cell_type": "code",
   "execution_count": 581,
   "metadata": {},
   "outputs": [
    {
     "data": {
      "image/png": "[encoded data removed]",
      "text/plain": [
       "<Figure size 576x432 with 1 Axes>"
      ]
     },
     "metadata": {
      "needs_background": "light"
     },
     "output_type": "display_data"
    }
   ],
   "source": [
    "# Visualizing the number of rides based on hourly basis\n",
    "plt.figure(figsize=[8,6])\n",
    "temp2 = df.groupby(by='hour').mean()['duration_min']\n",
    "avg_duration = df.duration_min.mean()\n",
    "\n",
    "sns.barplot(x=temp2.index, y=temp2.values,color= sns.color_palette()[0])\n",
    "plt.axhline(avg_duration, color='r', linestyle= '--', label= 'Average ride duration')\n",
    "\n",
    "plt.title('Average duration of rides on time of day based on start time')\n",
    "plt.xlabel('Hour of day')\n",
    "plt.ylabel('Average duration of the ride')\n",
    "plt.show()"
   ]
  },
  {
   "cell_type": "markdown",
   "metadata": {},
   "source": [
    "This shows that on an average the longest duration of cycle rides are between 1am to 4am. This seems counterintuitive. We need to explore the number of rides data to dig deeper."
   ]
  },
  {
   "cell_type": "markdown",
   "metadata": {},
   "source": [
    "**4.6 Average number of rides on a given time of the day**"
   ]
  },
  {
   "cell_type": "code",
   "execution_count": 586,
   "metadata": {},
   "outputs": [
    {
     "data": {
      "image/png": "[encoded data removed]",
      "text/plain": [
       "<Figure size 576x432 with 1 Axes>"
      ]
     },
     "metadata": {
      "needs_background": "light"
     },
     "output_type": "display_data"
    }
   ],
   "source": [
    "# grouping the data on hourly basis\n",
    "temp= df.groupby(by='hour').count()['start_time']/ (total_days)\n",
    "avg_rides_hour = df.shape[0]/(total_days*24)\n",
    "\n",
    "# Number of rides vs hour of day data\n",
    "plt.figure(figsize=[8,6])\n",
    "sns.barplot(x=temp.index, y=temp,color= sns.color_palette()[0])\n",
    "plt.axhline(avg_rides_hour, color='r', linestyle= '--', label= 'Average rides per hour')\n",
    "\n",
    "plt.ylabel('Number of rides')\n",
    "plt.xlabel('Hour of the day')\n",
    "plt.title('Number of rides on an hourly basis')\n",
    "plt.legend()\n",
    "plt.show()"
   ]
  },
  {
   "cell_type": "markdown",
   "metadata": {},
   "source": [
    "This shows that even though the duration of the rides is very long over the weekends, the number of rides are less.\n",
    "\n",
    "We need to explore if this trend is similar for every week day to see if there are any interactions in this behaviour."
   ]
  },
  {
   "cell_type": "markdown",
   "metadata": {},
   "source": [
    "**4.7 Number of rides on an hourly basis on each weekday** <br>\n",
    "Plotting the average number of rides for each hour for each weekday to see if there is any relationship between the 3 features."
   ]
  },
  {
   "cell_type": "code",
   "execution_count": 605,
   "metadata": {},
   "outputs": [
    {
     "data": {
      "image/png": "[encoded data removed]",
      "text/plain": [
       "<Figure size 648x648 with 7 Axes>"
      ]
     },
     "metadata": {
      "needs_background": "light"
     },
     "output_type": "display_data"
    }
   ],
   "source": [
    "# Seeing the interaction between the number of rides and hour depending on the day of the week\n",
    "temp2 = (df.groupby(by=['weekday','hour']).count()['duration_min']/total_days).reset_index()\n",
    "\n",
    "g= sns.FacetGrid(temp2, col='weekday', col_wrap= 3, col_order= day_order, sharex= False, sharey= False  )\n",
    "g.map(plt.bar, 'hour','duration_min' )\n",
    "g.set(xticks=np.arange(0,24,3), ylabel= 'Number of rides', xlabel='Hour of day', yticks= np.arange(0,120,20))\n",
    "\n",
    "g.fig.suptitle('Number of rides on an hourly basis for each day', y=1.05)\n",
    "plt.tight_layout()\n",
    "plt.show()"
   ]
  },
  {
   "cell_type": "markdown",
   "metadata": {},
   "source": [
    "This clearly shows the spike in users between 6am and 9am in the morning and 4pm to 6pm in the evening over the weekdays. On weekends there are no such spikes. On weekends the demand is less and the curve is more gentle."
   ]
  },
  {
   "cell_type": "markdown",
   "metadata": {},
   "source": [
    "**4.8 Growth in GoBikes ridership**\n",
    "\n",
    "Finding the change in the number of rides from 2017 to 2020 on a monthly basis."
   ]
  },
  {
   "cell_type": "code",
   "execution_count": 608,
   "metadata": {},
   "outputs": [
    {
     "data": {
      "image/png": "[encoded data removed]",
      "text/plain": [
       "<Figure size 720x432 with 1 Axes>"
      ]
     },
     "metadata": {
      "needs_background": "light"
     },
     "output_type": "display_data"
    }
   ],
   "source": [
    "# change in the number of rides from 2017 to 2020 on a monthly basis.\n",
    "temp = df.groupby(by=['year_month', 'user_type']).count()['start_time'].reset_index()\n",
    "temp.head()\n",
    "\n",
    "# Visualizing the growth in rides on a monthly basis\n",
    "plt.figure(figsize= [10,6])\n",
    "sns.barplot(x= temp['year_month'], y= temp.start_time, color= sns.color_palette()[0], ci=None)\n",
    "\n",
    "plt.xticks(rotation= 60)\n",
    "plt.ylabel('Number of rides')\n",
    "plt.xlabel('Year and Month')\n",
    "plt.title('Growth in ridership from 2017-2020')\n",
    "plt.show()"
   ]
  },
  {
   "cell_type": "markdown",
   "metadata": {},
   "source": [
    "This shows an incresing trends for the bike rides from 2017 onwards. Feb 2020 shows a remarkable spurt in growth in the number of rides."
   ]
  },
  {
   "cell_type": "markdown",
   "metadata": {},
   "source": [
    "**4.9 Growth in GoBike ridership based on type of user** <br>\n",
    "We need to explore if there is a particular category of the user that has grown more over time."
   ]
  },
  {
   "cell_type": "code",
   "execution_count": 609,
   "metadata": {},
   "outputs": [
    {
     "data": {
      "image/png": "[encoded data removed]",
      "text/plain": [
       "<Figure size 720x432 with 1 Axes>"
      ]
     },
     "metadata": {
      "needs_background": "light"
     },
     "output_type": "display_data"
    }
   ],
   "source": [
    "# Visualizing the growth in rides on a monthly basis split by user type\n",
    "plt.figure(figsize= [10,6])\n",
    "sns.barplot(x= temp['year_month'], y= temp.start_time, hue= temp['user_type'])\n",
    "plt.xticks(rotation= 60)\n",
    "plt.ylabel('Number of rides')\n",
    "plt.title('Growth in ridership from 2017-2020')\n",
    "plt.legend(title='User Type')\n",
    "plt.title('Growth in GoBike ridership based on type of user')\n",
    "plt.show()"
   ]
  },
  {
   "cell_type": "markdown",
   "metadata": {},
   "source": [
    "From the above graph one can see that the growth in subscriber is much more prominent compared to the growth in customer user type.The growth in subscriber base has grown from 100,000 to 250,000 in less than 2 years."
   ]
  },
  {
   "cell_type": "markdown",
   "metadata": {},
   "source": [
    "**4.10 Hourly ridership data based on user type** <br>\n",
    "Since subscriber base has grown a lot we need to see if they have the same behaviour on an hourly basis."
   ]
  },
  {
   "cell_type": "code",
   "execution_count": 610,
   "metadata": {},
   "outputs": [
    {
     "data": {
      "image/png": "[encoded data removed]",
      "text/plain": [
       "<Figure size 576x432 with 1 Axes>"
      ]
     },
     "metadata": {
      "needs_background": "light"
     },
     "output_type": "display_data"
    }
   ],
   "source": [
    "# grouping the data on hourly basis split by usertype\n",
    "temp= df.groupby(by=['hour', 'user_type']).count()['start_time'].reset_index()\n",
    "\n",
    "# Number of rides vs hour of day data\n",
    "plt.figure(figsize= [8,6])\n",
    "sns.barplot(x=temp.hour, y=temp.start_time,hue= temp.user_type )\n",
    "plt.ylabel('Number of rides')\n",
    "plt.xlabel('Hour of the day')\n",
    "plt.legend(title='User Type')\n",
    "plt.title('Hourly ridership data based on user type')\n",
    "plt.show()"
   ]
  },
  {
   "cell_type": "markdown",
   "metadata": {},
   "source": [
    "The number of subscribers travelling during office hours (7am to 10am and 4pm to 7pm) is very high compared to the customer category riders. However, both users show similar type of spikes in timings."
   ]
  },
  {
   "cell_type": "markdown",
   "metadata": {},
   "source": [
    "**4.11 Growth in ridership based on rental access method** <br>\n",
    "We need to explore the growth in rental access methods over time. There is lot of missing data and the data is available only since June 2019."
   ]
  },
  {
   "cell_type": "code",
   "execution_count": 669,
   "metadata": {},
   "outputs": [
    {
     "data": {
      "image/png": "[encoded data removed]",
      "text/plain": [
       "<Figure size 720x432 with 1 Axes>"
      ]
     },
     "metadata": {
      "needs_background": "light"
     },
     "output_type": "display_data"
    }
   ],
   "source": [
    "# Visualizing the growth in rides on a monthly basis split by rental access method\n",
    "temp = df.groupby(by=['year_month', 'rental_access_method']).count()['start_time'].reset_index()\n",
    "temp.head()\n",
    "\n",
    "plt.figure(figsize= [10,6])\n",
    "sns.barplot(x= temp['year_month'], y= temp.start_time, hue= temp['rental_access_method'])\n",
    "plt.xticks(rotation= 60)\n",
    "plt.ylabel('Number of rides')\n",
    "plt.title('Growth in ridership from 2017-2020')\n",
    "plt.legend( title='Rental Access Method' )\n",
    "plt.title('Growth in GoBike ridership based on rental access method')\n",
    "plt.show()"
   ]
  },
  {
   "cell_type": "markdown",
   "metadata": {},
   "source": [
    "There seems to be a lot of missing data for the rental access method column. However,the clipper card doesnt seem to be a very popular choice for using GoBikes and doesn't show much increase in growth. However, the app seems to be growing at a steady pace apart from the 2 winter months of November and Decemeber."
   ]
  },
  {
   "cell_type": "markdown",
   "metadata": {},
   "source": [
    "**4.12 Heatmap depiciting the busy hours for each station** <br>\n",
    "We need to explore which stations are the busiest and at what time. This will help us to understand how many bikes should be kept in each station so that the customer can be served properly."
   ]
  },
  {
   "cell_type": "code",
   "execution_count": 622,
   "metadata": {},
   "outputs": [
    {
     "data": {
      "text/html": [
       "<div>\n",
       "<style scoped>\n",
       "    .dataframe tbody tr th:only-of-type {\n",
       "        vertical-align: middle;\n",
       "    }\n",
       "\n",
       "    .dataframe tbody tr th {\n",
       "        vertical-align: top;\n",
       "    }\n",
       "\n",
       "    .dataframe thead th {\n",
       "        text-align: right;\n",
       "    }\n",
       "</style>\n",
       "<table border=\"1\" class=\"dataframe\">\n",
       "  <thead>\n",
       "    <tr style=\"text-align: right;\">\n",
       "      <th>hour</th>\n",
       "      <th>0</th>\n",
       "      <th>1</th>\n",
       "      <th>2</th>\n",
       "      <th>3</th>\n",
       "      <th>4</th>\n",
       "      <th>5</th>\n",
       "      <th>6</th>\n",
       "      <th>7</th>\n",
       "      <th>8</th>\n",
       "      <th>9</th>\n",
       "      <th>...</th>\n",
       "      <th>14</th>\n",
       "      <th>15</th>\n",
       "      <th>16</th>\n",
       "      <th>17</th>\n",
       "      <th>18</th>\n",
       "      <th>19</th>\n",
       "      <th>20</th>\n",
       "      <th>21</th>\n",
       "      <th>22</th>\n",
       "      <th>23</th>\n",
       "    </tr>\n",
       "    <tr>\n",
       "      <th>start_station_id</th>\n",
       "      <th></th>\n",
       "      <th></th>\n",
       "      <th></th>\n",
       "      <th></th>\n",
       "      <th></th>\n",
       "      <th></th>\n",
       "      <th></th>\n",
       "      <th></th>\n",
       "      <th></th>\n",
       "      <th></th>\n",
       "      <th></th>\n",
       "      <th></th>\n",
       "      <th></th>\n",
       "      <th></th>\n",
       "      <th></th>\n",
       "      <th></th>\n",
       "      <th></th>\n",
       "      <th></th>\n",
       "      <th></th>\n",
       "      <th></th>\n",
       "      <th></th>\n",
       "    </tr>\n",
       "  </thead>\n",
       "  <tbody>\n",
       "    <tr>\n",
       "      <td>3.0</td>\n",
       "      <td>0.361310</td>\n",
       "      <td>0.204708</td>\n",
       "      <td>0.098260</td>\n",
       "      <td>0.060389</td>\n",
       "      <td>0.034800</td>\n",
       "      <td>0.299898</td>\n",
       "      <td>0.579324</td>\n",
       "      <td>1.154555</td>\n",
       "      <td>5.068577</td>\n",
       "      <td>5.460594</td>\n",
       "      <td>...</td>\n",
       "      <td>4.540430</td>\n",
       "      <td>4.807574</td>\n",
       "      <td>6.494371</td>\n",
       "      <td>11.798362</td>\n",
       "      <td>9.799386</td>\n",
       "      <td>5.797339</td>\n",
       "      <td>3.932446</td>\n",
       "      <td>2.550665</td>\n",
       "      <td>1.398158</td>\n",
       "      <td>0.673490</td>\n",
       "    </tr>\n",
       "    <tr>\n",
       "      <td>4.0</td>\n",
       "      <td>0.156602</td>\n",
       "      <td>0.079836</td>\n",
       "      <td>0.074719</td>\n",
       "      <td>0.037871</td>\n",
       "      <td>0.027636</td>\n",
       "      <td>0.071648</td>\n",
       "      <td>0.498465</td>\n",
       "      <td>0.868987</td>\n",
       "      <td>1.561924</td>\n",
       "      <td>1.419652</td>\n",
       "      <td>...</td>\n",
       "      <td>0.727738</td>\n",
       "      <td>0.839304</td>\n",
       "      <td>0.967247</td>\n",
       "      <td>1.293756</td>\n",
       "      <td>1.251791</td>\n",
       "      <td>0.868987</td>\n",
       "      <td>0.691914</td>\n",
       "      <td>0.705220</td>\n",
       "      <td>0.559877</td>\n",
       "      <td>0.289662</td>\n",
       "    </tr>\n",
       "    <tr>\n",
       "      <td>5.0</td>\n",
       "      <td>0.413511</td>\n",
       "      <td>0.250768</td>\n",
       "      <td>0.159672</td>\n",
       "      <td>0.096213</td>\n",
       "      <td>0.098260</td>\n",
       "      <td>0.253838</td>\n",
       "      <td>1.223132</td>\n",
       "      <td>2.116684</td>\n",
       "      <td>5.476970</td>\n",
       "      <td>5.974411</td>\n",
       "      <td>...</td>\n",
       "      <td>3.178096</td>\n",
       "      <td>3.745138</td>\n",
       "      <td>5.078813</td>\n",
       "      <td>8.320368</td>\n",
       "      <td>7.195496</td>\n",
       "      <td>4.604913</td>\n",
       "      <td>3.350051</td>\n",
       "      <td>2.237462</td>\n",
       "      <td>1.435005</td>\n",
       "      <td>0.752303</td>\n",
       "    </tr>\n",
       "    <tr>\n",
       "      <td>6.0</td>\n",
       "      <td>0.177073</td>\n",
       "      <td>0.088025</td>\n",
       "      <td>0.038895</td>\n",
       "      <td>0.031730</td>\n",
       "      <td>0.024565</td>\n",
       "      <td>0.098260</td>\n",
       "      <td>1.066530</td>\n",
       "      <td>2.805527</td>\n",
       "      <td>5.287615</td>\n",
       "      <td>5.100307</td>\n",
       "      <td>...</td>\n",
       "      <td>4.494371</td>\n",
       "      <td>6.199591</td>\n",
       "      <td>10.370522</td>\n",
       "      <td>12.223132</td>\n",
       "      <td>7.192426</td>\n",
       "      <td>3.796315</td>\n",
       "      <td>2.299898</td>\n",
       "      <td>1.531218</td>\n",
       "      <td>0.829069</td>\n",
       "      <td>0.445241</td>\n",
       "    </tr>\n",
       "    <tr>\n",
       "      <td>7.0</td>\n",
       "      <td>0.191402</td>\n",
       "      <td>0.090072</td>\n",
       "      <td>0.053224</td>\n",
       "      <td>0.010235</td>\n",
       "      <td>0.006141</td>\n",
       "      <td>0.014330</td>\n",
       "      <td>0.225179</td>\n",
       "      <td>0.177073</td>\n",
       "      <td>0.408393</td>\n",
       "      <td>0.519959</td>\n",
       "      <td>...</td>\n",
       "      <td>1.161720</td>\n",
       "      <td>1.455476</td>\n",
       "      <td>2.465711</td>\n",
       "      <td>4.734903</td>\n",
       "      <td>3.214944</td>\n",
       "      <td>1.822927</td>\n",
       "      <td>1.328557</td>\n",
       "      <td>0.814739</td>\n",
       "      <td>0.513818</td>\n",
       "      <td>0.340839</td>\n",
       "    </tr>\n",
       "  </tbody>\n",
       "</table>\n",
       "<p>5 rows × 24 columns</p>\n",
       "</div>"
      ],
      "text/plain": [
       "hour                    0         1         2         3         4         5   \\\n",
       "start_station_id                                                               \n",
       "3.0               0.361310  0.204708  0.098260  0.060389  0.034800  0.299898   \n",
       "4.0               0.156602  0.079836  0.074719  0.037871  0.027636  0.071648   \n",
       "5.0               0.413511  0.250768  0.159672  0.096213  0.098260  0.253838   \n",
       "6.0               0.177073  0.088025  0.038895  0.031730  0.024565  0.098260   \n",
       "7.0               0.191402  0.090072  0.053224  0.010235  0.006141  0.014330   \n",
       "\n",
       "hour                    6         7         8         9   ...        14  \\\n",
       "start_station_id                                          ...             \n",
       "3.0               0.579324  1.154555  5.068577  5.460594  ...  4.540430   \n",
       "4.0               0.498465  0.868987  1.561924  1.419652  ...  0.727738   \n",
       "5.0               1.223132  2.116684  5.476970  5.974411  ...  3.178096   \n",
       "6.0               1.066530  2.805527  5.287615  5.100307  ...  4.494371   \n",
       "7.0               0.225179  0.177073  0.408393  0.519959  ...  1.161720   \n",
       "\n",
       "hour                    15         16         17        18        19  \\\n",
       "start_station_id                                                       \n",
       "3.0               4.807574   6.494371  11.798362  9.799386  5.797339   \n",
       "4.0               0.839304   0.967247   1.293756  1.251791  0.868987   \n",
       "5.0               3.745138   5.078813   8.320368  7.195496  4.604913   \n",
       "6.0               6.199591  10.370522  12.223132  7.192426  3.796315   \n",
       "7.0               1.455476   2.465711   4.734903  3.214944  1.822927   \n",
       "\n",
       "hour                    20        21        22        23  \n",
       "start_station_id                                          \n",
       "3.0               3.932446  2.550665  1.398158  0.673490  \n",
       "4.0               0.691914  0.705220  0.559877  0.289662  \n",
       "5.0               3.350051  2.237462  1.435005  0.752303  \n",
       "6.0               2.299898  1.531218  0.829069  0.445241  \n",
       "7.0               1.328557  0.814739  0.513818  0.340839  \n",
       "\n",
       "[5 rows x 24 columns]"
      ]
     },
     "execution_count": 622,
     "metadata": {},
     "output_type": "execute_result"
    }
   ],
   "source": [
    "# Counting the average rides each hour from each station\n",
    "df_pivot = df.pivot_table(values='ride', index='start_station_id', columns= 'hour', aggfunc=np.sum)/ (total_days)\n",
    "df_pivot.head()"
   ]
  },
  {
   "cell_type": "code",
   "execution_count": 662,
   "metadata": {},
   "outputs": [
    {
     "data": {
      "image/png": "[encoded data removed]",
      "text/plain": [
       "<Figure size 1152x648 with 2 Axes>"
      ]
     },
     "metadata": {
      "needs_background": "light"
     },
     "output_type": "display_data"
    }
   ],
   "source": [
    "# Plotting a heatmap that shows which stations are busy at which hour\n",
    "# Since there are 450+ unique station ids, the heatmap wont be a good fit to identify each station\n",
    "plt.figure(figsize=[16,9])\n",
    "sns.heatmap(df_pivot, vmin=0, cmap= 'viridis_r', cbar_kws={'label':'Rides each hour'})\n",
    "plt.title('Heatmap of Station IDs and hourly ridership')\n",
    "plt.xlabel('Hour of the day')\n",
    "plt.ylabel('Station ID')\n",
    "plt.show()"
   ]
  },
  {
   "cell_type": "markdown",
   "metadata": {},
   "source": [
    "Based on the above heatmap we can see that not all stations are equally busy during the weekdays. To ensure maximum revenue we need to make sure that those particular stations always have sufficient number of bikes during the busy time hours."
   ]
  },
  {
   "cell_type": "code",
   "execution_count": 679,
   "metadata": {},
   "outputs": [
    {
     "data": {
      "image/png": "[encoded data removed]",
      "text/plain": [
       "<Figure size 504x360 with 1 Axes>"
      ]
     },
     "metadata": {
      "needs_background": "light"
     },
     "output_type": "display_data"
    }
   ],
   "source": [
    "# Summarizing the above heatmap to find how many stations have have how  much of an hourly demand for the bikes\n",
    "plt.figure(figsize= [7,5])\n",
    "\n",
    "plt.hist(df_pivot.max(axis=1), bins= np.arange(0,25,1))\n",
    "plt.xticks(np.arange(0,25,2), np.arange(0,25,2))\n",
    "plt.xlabel('Maximum number of bike rides')\n",
    "plt.ylabel('Number of stations')\n",
    "plt.title('eg. 250 stations have maximum demand of 1 ride per hour per day', {'fontsize':10} )\n",
    "plt.suptitle('Aggregating maximum hourly demand for bikes per day on stations')\n",
    "plt.show()"
   ]
  },
  {
   "cell_type": "markdown",
   "metadata": {},
   "source": [
    "The above histogram shows that 200 stations need just 1 bike on them to satisfy the average peak in customer demand.  Around 75 stations need 2 bikes, while few stations need 15+ bikes on them to satisfy the peak customer demand. This peak customer demand happens during office hours from 7am to 10am and 4pm to 7pm."
   ]
  },
  {
   "cell_type": "code",
   "execution_count": null,
   "metadata": {},
   "outputs": [],
   "source": []
  }
 ],
 "metadata": {
  "kernelspec": {
   "display_name": "Python 3",
   "language": "python",
   "name": "python3"
  },
  "language_info": {
   "codemirror_mode": {
    "name": "ipython",
    "version": 3
   },
   "file_extension": ".py",
   "mimetype": "text/x-python",
   "name": "python",
   "nbconvert_exporter": "python",
   "pygments_lexer": "ipython3",
   "version": "3.7.4"
  }
 },
 "nbformat": 4,
 "nbformat_minor": 2
}
